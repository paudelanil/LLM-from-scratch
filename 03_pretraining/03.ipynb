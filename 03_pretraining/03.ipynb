{
  "cells": [
    {
      "cell_type": "code",
      "source": [
        "!pip install tiktoken"
      ],
      "metadata": {
        "colab": {
          "base_uri": "https://localhost:8080/"
        },
        "id": "eJiyfN9yPHUh",
        "outputId": "1b7f4bcc-c7e1-44b1-f928-7ba7857939e9"
      },
      "execution_count": 1,
      "outputs": [
        {
          "output_type": "stream",
          "name": "stdout",
          "text": [
            "Collecting tiktoken\n",
            "  Downloading tiktoken-0.7.0-cp310-cp310-manylinux_2_17_x86_64.manylinux2014_x86_64.whl.metadata (6.6 kB)\n",
            "Requirement already satisfied: regex>=2022.1.18 in /usr/local/lib/python3.10/dist-packages (from tiktoken) (2024.5.15)\n",
            "Requirement already satisfied: requests>=2.26.0 in /usr/local/lib/python3.10/dist-packages (from tiktoken) (2.32.3)\n",
            "Requirement already satisfied: charset-normalizer<4,>=2 in /usr/local/lib/python3.10/dist-packages (from requests>=2.26.0->tiktoken) (3.3.2)\n",
            "Requirement already satisfied: idna<4,>=2.5 in /usr/local/lib/python3.10/dist-packages (from requests>=2.26.0->tiktoken) (3.8)\n",
            "Requirement already satisfied: urllib3<3,>=1.21.1 in /usr/local/lib/python3.10/dist-packages (from requests>=2.26.0->tiktoken) (2.0.7)\n",
            "Requirement already satisfied: certifi>=2017.4.17 in /usr/local/lib/python3.10/dist-packages (from requests>=2.26.0->tiktoken) (2024.7.4)\n",
            "Downloading tiktoken-0.7.0-cp310-cp310-manylinux_2_17_x86_64.manylinux2014_x86_64.whl (1.1 MB)\n",
            "\u001b[2K   \u001b[90m━━━━━━━━━━━━━━━━━━━━━━━━━━━━━━━━━━━━━━━━\u001b[0m \u001b[32m1.1/1.1 MB\u001b[0m \u001b[31m16.7 MB/s\u001b[0m eta \u001b[36m0:00:00\u001b[0m\n",
            "\u001b[?25hInstalling collected packages: tiktoken\n",
            "Successfully installed tiktoken-0.7.0\n"
          ]
        }
      ]
    },
    {
      "cell_type": "code",
      "execution_count": 2,
      "metadata": {
        "colab": {
          "base_uri": "https://localhost:8080/"
        },
        "id": "SDct9W47O0yb",
        "outputId": "daa1afbf-3427-47bf-c13a-06d7af4fb622"
      },
      "outputs": [
        {
          "output_type": "stream",
          "name": "stdout",
          "text": [
            "matplotlib version: 3.7.1\n",
            "numpy version: 1.26.4\n",
            "tiktoken version: 0.7.0\n",
            "torch version: 2.4.0+cu121\n"
          ]
        }
      ],
      "source": [
        "from importlib.metadata import version\n",
        "\n",
        "pkgs = [\"matplotlib\",\n",
        "        \"numpy\",\n",
        "        \"tiktoken\",\n",
        "        \"torch\",\n",
        "       ]\n",
        "for p in pkgs:\n",
        "    print(f\"{p} version: {version(p)}\")\n"
      ]
    },
    {
      "cell_type": "markdown",
      "metadata": {
        "id": "kS0fAua0O0yf"
      },
      "source": [
        "In this notebook, we implement the training loop and code for basic model evaluation to pretrain an LLM"
      ]
    },
    {
      "cell_type": "code",
      "execution_count": 4,
      "metadata": {
        "id": "GS4ViowcO0yg"
      },
      "outputs": [],
      "source": [
        "import torch\n",
        "from supplementary import GPTModel\n",
        "\n",
        "\n",
        "GPT_CONFIG_124M = {\n",
        "    \"vocab_size\": 50257,   # Vocabulary size\n",
        "    \"context_length\": 256, # Shortened context length (orig: 1024)\n",
        "    \"emb_dim\": 768,        # Embedding dimension\n",
        "    \"n_heads\": 12,         # Number of attention heads\n",
        "    \"n_layers\": 12,        # Number of layers\n",
        "    \"drop_rate\": 0.1,      # Dropout rate\n",
        "    \"qkv_bias\": False      # Query-key-value bias\n",
        "}\n",
        "\n",
        "torch.manual_seed(123)\n",
        "model = GPTModel(GPT_CONFIG_124M)\n",
        "model.eval();  # Disable dropout during inference"
      ]
    },
    {
      "cell_type": "code",
      "execution_count": 5,
      "metadata": {
        "id": "nIYnm8KUO0yi"
      },
      "outputs": [],
      "source": [
        "import tiktoken\n",
        "from supplementary import generate_text_simple, text_to_token_ids,token_ids_to_text"
      ]
    },
    {
      "cell_type": "code",
      "execution_count": 6,
      "metadata": {
        "id": "jalqnXFTO0yk"
      },
      "outputs": [],
      "source": [
        "tokenizer = tiktoken.get_encoding('gpt2')\n",
        "start_context = 'every effort moves you '\n",
        "\n",
        "token_ids = generate_text_simple(\n",
        "    model = model,\n",
        "    idx = text_to_token_ids(start_context,tokenizer=tokenizer),\n",
        "    max_new_tokens=10,\n",
        "    context_size=GPT_CONFIG_124M['context_length']\n",
        "\n",
        ")"
      ]
    },
    {
      "cell_type": "code",
      "execution_count": 7,
      "metadata": {
        "id": "oyY_R39VO0yl"
      },
      "outputs": [],
      "source": [
        "text = token_ids_to_text(token_ids=token_ids,tokenizer=tokenizer)"
      ]
    },
    {
      "cell_type": "code",
      "execution_count": 8,
      "metadata": {
        "colab": {
          "base_uri": "https://localhost:8080/"
        },
        "id": "Q9UWRWv-O0yl",
        "outputId": "f68de4a9-e3e7-42db-85bf-df30655f87a8"
      },
      "outputs": [
        {
          "output_type": "stream",
          "name": "stdout",
          "text": [
            "every effort moves you Gr dramJoined Starcraft cryptic complementary sauces nylon Barneslevision\n"
          ]
        }
      ],
      "source": [
        "print(text)"
      ]
    },
    {
      "cell_type": "markdown",
      "metadata": {
        "id": "a_kEZx8mO0ym"
      },
      "source": [
        "### Preparing the dataset Loaders\n",
        "\n",
        "We use short dataset for training the LLM (a short story 'the-verdict.txt')\n"
      ]
    },
    {
      "cell_type": "code",
      "execution_count": 9,
      "metadata": {
        "id": "cxyJn5V7O0ym"
      },
      "outputs": [],
      "source": [
        "with open('the-verdict.txt','r') as f:\n",
        "    text_data = f.read()"
      ]
    },
    {
      "cell_type": "code",
      "execution_count": 10,
      "metadata": {
        "id": "60v_Jz4CO0ym"
      },
      "outputs": [],
      "source": [
        "len_token =len( tokenizer.encode(text_data))"
      ]
    },
    {
      "cell_type": "code",
      "execution_count": 11,
      "metadata": {
        "colab": {
          "base_uri": "https://localhost:8080/"
        },
        "id": "5pxarSu8O0yn",
        "outputId": "efc8aceb-58af-410a-90f5-3f6edb918a8f"
      },
      "outputs": [
        {
          "output_type": "stream",
          "name": "stdout",
          "text": [
            "5145\n"
          ]
        }
      ],
      "source": [
        "print(len_token) # total training data token. for now we use low token for educational purpose"
      ]
    },
    {
      "cell_type": "code",
      "execution_count": 12,
      "metadata": {
        "colab": {
          "base_uri": "https://localhost:8080/"
        },
        "id": "d34kbjRvO0yn",
        "outputId": "09151888-e3f1-461c-e2c1-302bb2aaf251"
      },
      "outputs": [
        {
          "output_type": "stream",
          "name": "stdout",
          "text": [
            " HAD always thought Jack Gisburn rather a cheap genius--though a good fellow enough--so it was no g\n"
          ]
        }
      ],
      "source": [
        "print(text_data[1:100])"
      ]
    },
    {
      "cell_type": "code",
      "execution_count": 13,
      "metadata": {
        "colab": {
          "base_uri": "https://localhost:8080/"
        },
        "id": "vjxEzqHBO0yo",
        "outputId": "7d8c9c47-9d59-48bc-df29-633857b4aefe"
      },
      "outputs": [
        {
          "output_type": "stream",
          "name": "stdout",
          "text": [
            " and -->  established\n",
            " and established -->  himself\n",
            " and established himself -->  in\n",
            " and established himself in -->  a\n",
            " and established himself in a -->  vill\n"
          ]
        }
      ],
      "source": [
        "enc_sample = tokenizer.encode(text_data)[50:]\n",
        "\n",
        "\n",
        "context_size = 5\n",
        "\n",
        "for i in range(1, context_size + 1):\n",
        "    x = enc_sample[:i]\n",
        "    y = enc_sample[i]\n",
        "    print(tokenizer.decode(x),\"-->\",tokenizer.decode([y]))"
      ]
    },
    {
      "cell_type": "code",
      "execution_count": 14,
      "metadata": {
        "id": "RGzRNPALO0yo"
      },
      "outputs": [],
      "source": [
        "# dataset split before loading to DataLoader\n",
        "\n",
        "train_ratio = 0.9\n",
        "split_idx =  int (train_ratio * len(text_data))\n",
        "\n",
        "train_data = text_data[:split_idx]\n",
        "val_data = text_data[split_idx:]\n",
        "\n"
      ]
    },
    {
      "cell_type": "code",
      "execution_count": 15,
      "metadata": {
        "colab": {
          "base_uri": "https://localhost:8080/"
        },
        "id": "-6UFBlFxO0yo",
        "outputId": "3b0c9fca-cf3f-413e-ec5c-c9ed6edf103e"
      },
      "outputs": [
        {
          "output_type": "stream",
          "name": "stdout",
          "text": [
            "2048\n"
          ]
        }
      ],
      "source": [
        "print(len(val_data))"
      ]
    },
    {
      "cell_type": "code",
      "execution_count": 16,
      "metadata": {
        "id": "d7rVEpXWO0yp"
      },
      "outputs": [],
      "source": [
        "from torch.utils.data import DataLoader, Dataset\n",
        "\n"
      ]
    },
    {
      "cell_type": "code",
      "execution_count": 17,
      "metadata": {
        "id": "XWqYrtvEO0yq"
      },
      "outputs": [],
      "source": [
        "class GPTDatasetV1(Dataset):\n",
        "    def __init__(self,text,tokenizer, max_length, stride):\n",
        "        self.input_ids  = []\n",
        "        self.target_ids = []\n",
        "\n",
        "        token_ids = tokenizer.encode(text,allowed_special={'<|endoftext|>'})\n",
        "\n",
        "        for i in range(0,len(token_ids) - max_length, stride): # to move upto length lest than max in order to take the tokens\n",
        "            input_chunk = token_ids[i : max_length + i]\n",
        "            target_chunk = token_ids[i+1 : max_length + i + 1 ]      # window slides as per stride, so it takes the value of\n",
        "                                                                #winodw +1 then move accrodingly\n",
        "\n",
        "            self.input_ids.append(torch.tensor(input_chunk))\n",
        "            self.target_ids.append(torch.tensor(target_chunk))\n",
        "\n",
        "    def __getitem__(self, index) :\n",
        "        return self.input_ids[index],self.target_ids[index]\n",
        "\n",
        "    def __len__(self):\n",
        "        return len(self.input_ids)\n",
        "\n",
        "\n"
      ]
    },
    {
      "cell_type": "code",
      "execution_count": 18,
      "metadata": {
        "id": "zbtnp63JO0yq"
      },
      "outputs": [],
      "source": [
        "datasetv1 = GPTDatasetV1(text= 'hi hello anil how are you,sadf',tokenizer= tokenizer,max_length=2,stride=1)"
      ]
    },
    {
      "cell_type": "code",
      "execution_count": 19,
      "metadata": {
        "id": "COAav_1tO0yq"
      },
      "outputs": [],
      "source": [
        "# now we can create an efiicicient dataloader\n",
        "\n",
        "def create_dataloader_v1(txt, batch_size=4, max_length=256,\n",
        "                         stride=128, shuffle=True, drop_last=True, num_workers=0):\n",
        "    # Initialize the tokenizer\n",
        "    tokenizer = tiktoken.get_encoding(\"gpt2\")\n",
        "\n",
        "    # Create dataset\n",
        "    dataset = GPTDatasetV1(txt, tokenizer, max_length, stride)\n",
        "\n",
        "    # Create dataloader\n",
        "    dataloader = DataLoader(\n",
        "        dataset, batch_size=batch_size, shuffle=shuffle, drop_last=drop_last, num_workers=num_workers)\n",
        "\n",
        "    return dataloader\n"
      ]
    },
    {
      "cell_type": "code",
      "execution_count": 20,
      "metadata": {
        "id": "0jN3sBcIO0yr"
      },
      "outputs": [],
      "source": [
        "dataloader= create_dataloader_v1(train_data,batch_size=1,max_length=5,stride=1,shuffle=False)"
      ]
    },
    {
      "cell_type": "code",
      "execution_count": 21,
      "metadata": {
        "id": "Hd4eghR6O0yr"
      },
      "outputs": [],
      "source": [
        "data_iter = iter(dataloader)\n",
        "first_batch  = next(data_iter)"
      ]
    },
    {
      "cell_type": "code",
      "execution_count": 22,
      "metadata": {
        "colab": {
          "base_uri": "https://localhost:8080/"
        },
        "id": "RwJsUz7mO0yr",
        "outputId": "82c50146-b55c-403d-8dd1-f38b9a059064"
      },
      "outputs": [
        {
          "output_type": "stream",
          "name": "stdout",
          "text": [
            "[tensor([[  40,  367, 2885, 1464, 1807]]), tensor([[ 367, 2885, 1464, 1807, 3619]])]\n"
          ]
        }
      ],
      "source": [
        "print(first_batch)"
      ]
    },
    {
      "cell_type": "code",
      "execution_count": 23,
      "metadata": {
        "id": "wOdrEWJAO0yr"
      },
      "outputs": [],
      "source": [
        "# Now we prepare the dataloaders for train and val dataset\n",
        "\n",
        "train_loader = create_dataloader_v1(\n",
        "    train_data,\n",
        "    batch_size=2,\n",
        "    max_length=GPT_CONFIG_124M['context_length'],\n",
        "    stride=GPT_CONFIG_124M['context_length'],\n",
        "    drop_last=True,\n",
        "    shuffle=True,\n",
        "    num_workers= 0\n",
        ")\n",
        "\n",
        "val_loader = create_dataloader_v1(\n",
        "    val_data,\n",
        "    batch_size=2,\n",
        "    max_length=GPT_CONFIG_124M['context_length'],\n",
        "    stride=GPT_CONFIG_124M['context_length'],\n",
        "    drop_last=False,\n",
        "    shuffle=False,\n",
        "    num_workers= 0\n",
        ")\n",
        "\n",
        "#To explore: What does the drop_last in DataLoader do?"
      ]
    },
    {
      "cell_type": "code",
      "execution_count": 24,
      "metadata": {
        "colab": {
          "base_uri": "https://localhost:8080/"
        },
        "id": "9a4AVqaFO0ys",
        "outputId": "f651456f-4ccb-44fe-8302-2b4836a26cea"
      },
      "outputs": [
        {
          "output_type": "stream",
          "name": "stdout",
          "text": [
            "Train loader:\n",
            "torch.Size([2, 256]) torch.Size([2, 256])\n",
            "torch.Size([2, 256]) torch.Size([2, 256])\n",
            "torch.Size([2, 256]) torch.Size([2, 256])\n",
            "torch.Size([2, 256]) torch.Size([2, 256])\n",
            "torch.Size([2, 256]) torch.Size([2, 256])\n",
            "torch.Size([2, 256]) torch.Size([2, 256])\n",
            "torch.Size([2, 256]) torch.Size([2, 256])\n",
            "torch.Size([2, 256]) torch.Size([2, 256])\n",
            "torch.Size([2, 256]) torch.Size([2, 256])\n",
            "\n",
            "Validation loader:\n",
            "torch.Size([2, 256]) torch.Size([2, 256])\n"
          ]
        }
      ],
      "source": [
        "#test the working of dataloader\n",
        "\n",
        "print(\"Train loader:\")\n",
        "for x, y in train_loader:\n",
        "    print(x.shape, y.shape)\n",
        "\n",
        "print(\"\\nValidation loader:\")\n",
        "for x, y in val_loader:\n",
        "    print(x.shape, y.shape)"
      ]
    },
    {
      "cell_type": "markdown",
      "metadata": {
        "id": "msOWdXG2O0yt"
      },
      "source": [
        "#### Cacluate the LOSS"
      ]
    },
    {
      "cell_type": "code",
      "execution_count": 25,
      "metadata": {
        "id": "h_Vyex4zO0yt"
      },
      "outputs": [],
      "source": [
        "from supplementary import calc_loss_loader"
      ]
    },
    {
      "cell_type": "code",
      "execution_count": 26,
      "metadata": {
        "colab": {
          "base_uri": "https://localhost:8080/"
        },
        "id": "zC8xE-AFO0yu",
        "outputId": "53dc8d86-0b62-44ba-82ab-3b8502f919dd"
      },
      "outputs": [
        {
          "output_type": "stream",
          "name": "stdout",
          "text": [
            "Training loss: 10.987583266364204\n",
            "Validation loss: 10.981104850769043\n"
          ]
        }
      ],
      "source": [
        "device = torch.device(\"cuda\" if torch.cuda.is_available() else \"cpu\")\n",
        "model.to(device) # no assignment model = model.to(device) necessary for nn.Module classes\n",
        "\n",
        "\n",
        "torch.manual_seed(123)\n",
        "\n",
        "with torch.no_grad(): # Disable gradient tracking for efficiency because we are not training, yet\n",
        "    train_loss = calc_loss_loader(train_loader, model, device)\n",
        "    val_loss = calc_loss_loader(val_loader, model, device)\n",
        "\n",
        "print(\"Training loss:\", train_loss)\n",
        "print(\"Validation loss:\", val_loss)"
      ]
    },
    {
      "cell_type": "code",
      "execution_count": 27,
      "metadata": {
        "id": "Krb1pWEmO0yu"
      },
      "outputs": [],
      "source": [
        "from supplementary import (\n",
        "    calc_loss_batch,\n",
        "    evaluate_model,\n",
        "    generate_and_print_sample\n",
        ")\n"
      ]
    },
    {
      "cell_type": "code",
      "execution_count": 28,
      "metadata": {
        "id": "Ar_5pKI8O0yu"
      },
      "outputs": [],
      "source": [
        "def train_model_simple(model,train_loader,val_loader,optimizer,device,num_epochs,eval_freq,eval_iter,start_context,tokenizer):\n",
        "\n",
        "    #list to trak losses and token seen\n",
        "\n",
        "    train_losses, val_losses, track_tokens_seen = [], [], []\n",
        "    tokens_seen, global_step = 0, -1\n",
        "\n",
        "    for epoch in range(num_epochs):\n",
        "\n",
        "        model.train() #set to training mode\n",
        "\n",
        "        for input_batch,target_batch in train_loader:\n",
        "\n",
        "            optimizer.zero_grad()\n",
        "\n",
        "            loss = calc_loss_batch(input_batch,target_batch,model,device)\n",
        "            loss.backward()\n",
        "            optimizer.step() #update model weights using loss gradient\n",
        "\n",
        "            tokens_seen += input_batch.numel() # Returns the total number of elements in the input tensor.\n",
        "            global_step += 1\n",
        "\n",
        "            if global_step % eval_freq == 0:\n",
        "                train_loss, val_loss = evaluate_model(model,train_loader,val_loader,device,eval_iter)\n",
        "                train_losses.append(train_loss)\n",
        "                val_losses.append(val_loss)\n",
        "\n",
        "                track_tokens_seen.append(tokens_seen)\n",
        "                print(f\"Ep {epoch+1} (Step {global_step:06d}): \"\n",
        "                      f\"Train loss {train_loss:.3f}, Val loss {val_loss:.3f}\")\n",
        "\n",
        "         # Print a sample text after each epoch\n",
        "        generate_and_print_sample(\n",
        "            model, tokenizer, device, start_context\n",
        "        )\n",
        "\n",
        "    return train_losses, val_losses, track_tokens_seen\n"
      ]
    },
    {
      "cell_type": "code",
      "execution_count": 29,
      "metadata": {
        "colab": {
          "base_uri": "https://localhost:8080/"
        },
        "id": "BbHGgJevO0yu",
        "outputId": "24c46de6-7d92-49a9-eb99-24abe06157f5"
      },
      "outputs": [
        {
          "output_type": "stream",
          "name": "stdout",
          "text": [
            "Ep 1 (Step 000000): Train loss 10.062, Val loss 9.930\n",
            "Ep 1 (Step 000001): Train loss 9.287, Val loss 9.388\n",
            "Ep 1 (Step 000002): Train loss 9.344, Val loss 9.129\n",
            "Ep 1 (Step 000003): Train loss 8.962, Val loss 8.887\n",
            "Ep 1 (Step 000004): Train loss 8.675, Val loss 8.639\n",
            "Ep 1 (Step 000005): Train loss 8.400, Val loss 8.336\n",
            "Ep 1 (Step 000006): Train loss 7.634, Val loss 8.046\n",
            "Ep 1 (Step 000007): Train loss 7.621, Val loss 7.748\n",
            "Ep 1 (Step 000008): Train loss 6.855, Val loss 7.473\n",
            "Every effort moves you,,,,,,,,,,,,.                                     \n",
            "Ep 2 (Step 000009): Train loss 7.302, Val loss 7.239\n",
            "Ep 2 (Step 000010): Train loss 6.349, Val loss 7.044\n",
            "Ep 2 (Step 000011): Train loss 6.247, Val loss 6.899\n",
            "Ep 2 (Step 000012): Train loss 6.184, Val loss 6.794\n",
            "Ep 2 (Step 000013): Train loss 5.903, Val loss 6.716\n",
            "Ep 2 (Step 000014): Train loss 6.500, Val loss 6.661\n",
            "Ep 2 (Step 000015): Train loss 6.509, Val loss 6.617\n",
            "Ep 2 (Step 000016): Train loss 5.945, Val loss 6.584\n",
            "Ep 2 (Step 000017): Train loss 5.832, Val loss 6.550\n",
            "Every effort moves you. \". \". \"\". \"\". \", and. \"\"\"\". \". \"\". \". \". \"\"\"\"\". \"\"\"\n",
            "Ep 3 (Step 000018): Train loss 6.251, Val loss 6.517\n",
            "Ep 3 (Step 000019): Train loss 6.037, Val loss 6.545\n",
            "Ep 3 (Step 000020): Train loss 5.920, Val loss 6.462\n",
            "Ep 3 (Step 000021): Train loss 5.821, Val loss 6.431\n",
            "Ep 3 (Step 000022): Train loss 14.955, Val loss 15.486\n",
            "Ep 3 (Step 000023): Train loss 5.381, Val loss 6.361\n",
            "Ep 3 (Step 000024): Train loss 5.344, Val loss 6.395\n",
            "Ep 3 (Step 000025): Train loss 5.369, Val loss 6.467\n",
            "Ep 3 (Step 000026): Train loss 5.435, Val loss 6.411\n",
            "Every effort moves you, and I had been.                                            \n",
            "Ep 4 (Step 000027): Train loss 4.566, Val loss 6.368\n",
            "Ep 4 (Step 000028): Train loss 4.429, Val loss 6.355\n",
            "Ep 4 (Step 000029): Train loss 4.967, Val loss 6.300\n",
            "Ep 4 (Step 000030): Train loss 4.602, Val loss 6.468\n",
            "Ep 4 (Step 000031): Train loss 4.964, Val loss 6.406\n",
            "Ep 4 (Step 000032): Train loss 4.632, Val loss 6.318\n",
            "Ep 4 (Step 000033): Train loss 4.498, Val loss 6.325\n",
            "Ep 4 (Step 000034): Train loss 4.817, Val loss 6.391\n",
            "Ep 4 (Step 000035): Train loss 4.202, Val loss 6.292\n",
            "Every effort moves you know the           \"I had been, I was's--and it's the picture to haveburn, in the picture to have--and it's--and it was a little--and it was\n",
            "Ep 5 (Step 000036): Train loss 4.600, Val loss 6.221\n",
            "Ep 5 (Step 000037): Train loss 4.351, Val loss 6.298\n",
            "Ep 5 (Step 000038): Train loss 2.702, Val loss 6.273\n",
            "Ep 5 (Step 000039): Train loss 3.610, Val loss 6.205\n",
            "Ep 5 (Step 000040): Train loss 4.333, Val loss 6.163\n",
            "Ep 5 (Step 000041): Train loss 3.252, Val loss 6.159\n",
            "Ep 5 (Step 000042): Train loss 4.138, Val loss 6.156\n",
            "Ep 5 (Step 000043): Train loss 3.916, Val loss 6.170\n",
            "Ep 5 (Step 000044): Train loss 2.543, Val loss 6.180\n",
            "Every effort moves you know it was his a little to see it--I had a little.          \"--I had the picture--as Jack himself, and he had been to the donkey. \"--I had the\n",
            "Ep 6 (Step 000045): Train loss 4.133, Val loss 6.160\n",
            "Ep 6 (Step 000046): Train loss 3.262, Val loss 6.161\n",
            "Ep 6 (Step 000047): Train loss 4.087, Val loss 6.122\n",
            "Ep 6 (Step 000048): Train loss 2.321, Val loss 6.102\n",
            "Ep 6 (Step 000049): Train loss 3.386, Val loss 6.137\n",
            "Ep 6 (Step 000050): Train loss 1.655, Val loss 6.172\n",
            "Ep 6 (Step 000051): Train loss 2.098, Val loss 6.155\n",
            "Ep 6 (Step 000052): Train loss 3.264, Val loss 6.134\n",
            "Ep 6 (Step 000053): Train loss 2.458, Val loss 6.128\n",
            "Every effort moves you know it was his pictures--I had a little the fact by his last word. \"--I looked up, I had been to the end of the his head to the donkey. Gisburn had been the man of the hour. \n",
            "Ep 7 (Step 000054): Train loss 2.530, Val loss 6.156\n",
            "Ep 7 (Step 000055): Train loss 2.768, Val loss 6.180\n",
            "Ep 7 (Step 000056): Train loss 2.847, Val loss 6.167\n",
            "Ep 7 (Step 000057): Train loss 2.787, Val loss 6.162\n",
            "Ep 7 (Step 000058): Train loss 2.337, Val loss 6.167\n",
            "Ep 7 (Step 000059): Train loss 2.090, Val loss 6.197\n",
            "Ep 7 (Step 000060): Train loss 2.219, Val loss 6.185\n",
            "Ep 7 (Step 000061): Train loss 1.801, Val loss 6.160\n",
            "Ep 7 (Step 000062): Train loss 2.401, Val loss 6.173\n",
            "Every effort moves you?\" \"I that I felt it was a, and I felt to have. Gisburn's an! The women had been to the it was back his head to have him. It was his painting, and down the room, I had\n",
            "Ep 8 (Step 000063): Train loss 1.104, Val loss 6.183\n",
            "Ep 8 (Step 000064): Train loss 2.132, Val loss 6.226\n",
            "Ep 8 (Step 000065): Train loss 1.217, Val loss 6.228\n",
            "Ep 8 (Step 000066): Train loss 1.456, Val loss 6.226\n",
            "Ep 8 (Step 000067): Train loss 1.962, Val loss 6.241\n",
            "Ep 8 (Step 000068): Train loss 1.478, Val loss 6.270\n",
            "Ep 8 (Step 000069): Train loss 1.403, Val loss 6.274\n",
            "Ep 8 (Step 000070): Train loss 0.996, Val loss 6.256\n",
            "Ep 8 (Step 000071): Train loss 1.224, Val loss 6.242\n",
            "Every effort moves you?\"  \"Yes--quite insensible to the fact with a laugh: \"Yes--and by me to me to have to see a smile behind his close grayish beard--as if he had the donkey. \"There were days when I\n",
            "Ep 9 (Step 000072): Train loss 1.191, Val loss 6.256\n",
            "Ep 9 (Step 000073): Train loss 1.146, Val loss 6.293\n",
            "Ep 9 (Step 000074): Train loss 1.264, Val loss 6.324\n",
            "Ep 9 (Step 000075): Train loss 0.967, Val loss 6.328\n",
            "Ep 9 (Step 000076): Train loss 0.737, Val loss 6.312\n",
            "Ep 9 (Step 000077): Train loss 0.633, Val loss 6.307\n",
            "Ep 9 (Step 000078): Train loss 0.769, Val loss 6.305\n",
            "Ep 9 (Step 000079): Train loss 0.636, Val loss 6.308\n",
            "Ep 9 (Step 000080): Train loss 0.785, Val loss 6.335\n",
            "Every effort moves you?\"  \"Yes--quite insensible to the irony. She wanted him vindicated--and by me!\"  He laughed again, and threw back his head to look up at the sketch of the donkey. \"There were days when I\n",
            "Ep 10 (Step 000081): Train loss 0.550, Val loss 6.354\n",
            "Ep 10 (Step 000082): Train loss 0.634, Val loss 6.366\n",
            "Ep 10 (Step 000083): Train loss 0.358, Val loss 6.366\n",
            "Ep 10 (Step 000084): Train loss 0.514, Val loss 6.391\n",
            "Ep 10 (Step 000085): Train loss 0.517, Val loss 6.440\n",
            "Ep 10 (Step 000086): Train loss 0.580, Val loss 6.426\n",
            "Ep 10 (Step 000087): Train loss 0.399, Val loss 6.448\n",
            "Ep 10 (Step 000088): Train loss 0.503, Val loss 6.455\n",
            "Ep 10 (Step 000089): Train loss 0.321, Val loss 6.448\n",
            "Every effort moves you?\"     I glanced after him, and uncertain. Stroud so when she began to me!\"  He laughed again, and threw back his head to look up at the sketch of the donkey. \"There were days when I\n"
          ]
        }
      ],
      "source": [
        "torch.manual_seed(123)\n",
        "model = GPTModel(GPT_CONFIG_124M)\n",
        "model.to(device)\n",
        "optimizer = torch.optim.AdamW(model.parameters(), lr=0.0004, weight_decay=0.1)\n",
        "\n",
        "num_epochs = 10\n",
        "train_losses, val_losses, tokens_seen = train_model_simple(\n",
        "    model, train_loader, val_loader, optimizer, device,\n",
        "    num_epochs=num_epochs, eval_freq=1, eval_iter=1,\n",
        "    start_context=\"Every effort moves you\", tokenizer=tokenizer\n",
        ")"
      ]
    },
    {
      "cell_type": "code",
      "execution_count": 31,
      "metadata": {
        "id": "pkjvTbZWO0yv"
      },
      "outputs": [],
      "source": [
        "torch.save(model.state_dict(), \"model.pth\")"
      ]
    },
    {
      "cell_type": "code",
      "source": [
        "from supplementary import plot_losses\n",
        "\n",
        "\n",
        "epochs_tensor = torch.linspace(0, num_epochs, len(train_losses))\n",
        "plot_losses(epochs_tensor, tokens_seen, train_losses, val_losses)"
      ],
      "metadata": {
        "colab": {
          "base_uri": "https://localhost:8080/",
          "height": 307
        },
        "id": "hokHISOtQHlw",
        "outputId": "01046968-d4e5-4c05-e299-79a2f6584eef"
      },
      "execution_count": 32,
      "outputs": [
        {
          "output_type": "display_data",
          "data": {
            "text/plain": [
              "<Figure size 500x300 with 2 Axes>"
            ],
            "image/png": "[encoded data removed]"
          },
          "metadata": {}
        }
      ]
    },
    {
      "cell_type": "code",
      "source": [
        "start_context = \"You are looking  \"\n",
        "\n",
        "tokenizer = tiktoken.get_encoding(\"gpt2\")\n",
        "\n",
        "token_ids = generate_text_simple(\n",
        "    model=model,\n",
        "    idx=text_to_token_ids(start_context, tokenizer).to(device),\n",
        "    max_new_tokens=10,\n",
        "    context_size=GPT_CONFIG_124M[\"context_length\"]\n",
        ")\n",
        "\n",
        "print(\"Output text:\\n\", token_ids_to_text(token_ids, tokenizer))"
      ],
      "metadata": {
        "colab": {
          "base_uri": "https://localhost:8080/"
        },
        "id": "b4Zu9rvqQXyM",
        "outputId": "04f6d480-4159-471b-8589-14c8629c5a5b"
      },
      "execution_count": 45,
      "outputs": [
        {
          "output_type": "stream",
          "name": "stdout",
          "text": [
            "Output text:\n",
            " You are looking  'd never touched a brush.\"\n",
            "\n",
            "\n",
            "\n",
            "\n"
          ]
        }
      ]
    },
    {
      "cell_type": "code",
      "source": [
        "# load the model in new session\n",
        "\n",
        "import torch\n",
        "\n",
        "# Imports from a local file\n",
        "from supplementary import GPTModel\n",
        "\n",
        "\n",
        "model = GPTModel(GPT_CONFIG_124M)\n",
        "device = torch.device(\"cuda\" if torch.cuda.is_available() else \"cpu\")\n",
        "model.load_state_dict(torch.load(\"model.pth\", map_location=device))\n",
        "model.eval();"
      ],
      "metadata": {
        "colab": {
          "base_uri": "https://localhost:8080/"
        },
        "id": "e-6sdjm3QmVN",
        "outputId": "e5b3cd11-dd1e-4036-999e-7cd06a496aa8"
      },
      "execution_count": 47,
      "outputs": [
        {
          "output_type": "stream",
          "name": "stderr",
          "text": [
            "<ipython-input-47-a1a952e33aae>:11: FutureWarning: You are using `torch.load` with `weights_only=False` (the current default value), which uses the default pickle module implicitly. It is possible to construct malicious pickle data which will execute arbitrary code during unpickling (See https://github.com/pytorch/pytorch/blob/main/SECURITY.md#untrusted-models for more details). In a future release, the default value for `weights_only` will be flipped to `True`. This limits the functions that could be executed during unpickling. Arbitrary objects will no longer be allowed to be loaded via this mode unless they are explicitly allowlisted by the user via `torch.serialization.add_safe_globals`. We recommend you start setting `weights_only=True` for any use case where you don't have full control of the loaded file. Please open an issue on GitHub for any issues related to this experimental feature.\n",
            "  model.load_state_dict(torch.load(\"model.pth\", map_location=device))\n"
          ]
        }
      ]
    },
    {
      "cell_type": "code",
      "source": [],
      "metadata": {
        "id": "E33BLzkiRS90"
      },
      "execution_count": null,
      "outputs": []
    }
  ],
  "metadata": {
    "kernelspec": {
      "display_name": "Python 3",
      "name": "python3"
    },
    "language_info": {
      "codemirror_mode": {
        "name": "ipython",
        "version": 3
      },
      "file_extension": ".py",
      "mimetype": "text/x-python",
      "name": "python",
      "nbconvert_exporter": "python",
      "pygments_lexer": "ipython3",
      "version": "3.10.14"
    },
    "colab": {
      "provenance": [],
      "gpuType": "T4"
    },
    "accelerator": "GPU"
  },
  "nbformat": 4,
  "nbformat_minor": 0
}